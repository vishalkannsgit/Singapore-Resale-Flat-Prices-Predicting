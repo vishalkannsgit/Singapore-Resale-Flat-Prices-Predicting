{
 "cells": [
  {
   "cell_type": "code",
   "execution_count": 3,
   "id": "6f9d3aab-05d8-4ee6-bbc2-307d1807dffd",
   "metadata": {},
   "outputs": [
    {
     "name": "stdout",
     "output_type": "stream",
     "text": [
      "     month        town flat_type block       street_name storey_range  \\\n",
      "0  1990-01  ANG MO KIO    1 ROOM   309  ANG MO KIO AVE 1     10 TO 12   \n",
      "1  1990-01  ANG MO KIO    1 ROOM   309  ANG MO KIO AVE 1     04 TO 06   \n",
      "2  1990-01  ANG MO KIO    1 ROOM   309  ANG MO KIO AVE 1     10 TO 12   \n",
      "3  1990-01  ANG MO KIO    1 ROOM   309  ANG MO KIO AVE 1     07 TO 09   \n",
      "4  1990-01  ANG MO KIO    3 ROOM   216  ANG MO KIO AVE 1     04 TO 06   \n",
      "\n",
      "   floor_area_sqm      flat_model  lease_commence_date  resale_price  \\\n",
      "0            31.0        IMPROVED                 1977        9000.0   \n",
      "1            31.0        IMPROVED                 1977        6000.0   \n",
      "2            31.0        IMPROVED                 1977        8000.0   \n",
      "3            31.0        IMPROVED                 1977        6000.0   \n",
      "4            73.0  NEW GENERATION                 1976       47200.0   \n",
      "\n",
      "  remaining_lease  \n",
      "0             NaN  \n",
      "1             NaN  \n",
      "2             NaN  \n",
      "3             NaN  \n",
      "4             NaN  \n"
     ]
    }
   ],
   "source": [
    "import pandas as pd\n",
    "df1 = pd.read_csv(\"C:/Users/Visha/OneDrive/Desktop/SING/DATA/Resale Flat Prices (Based on Approval Date), 1990 - 1999.csv\")\n",
    "df2 = pd.read_csv(\"C:/Users/Visha/OneDrive/Desktop/SING/DATA/Resale Flat Prices (Based on Approval Date), 2000 - Feb 2012.csv\")\n",
    "df3 = pd.read_csv(\"C:/Users/Visha/OneDrive/Desktop/SING/DATA/Resale Flat Prices (Based on Registration Date), From Jan 2015 to Dec 2016.csv\")\n",
    "df4 = pd.read_csv(\"C:/Users/Visha/OneDrive/Desktop/SING/DATA/Resale Flat Prices (Based on Registration Date), From Mar 2012 to Dec 2014.csv\")\n",
    "df5 = pd.read_csv(\"C:/Users/Visha/OneDrive/Desktop/SING/DATA/Resale flat prices based on registration date from Jan-2017 onwards.csv\")\n",
    "df = pd.concat([df1, df2, df3, df4, df5], ignore_index=True)\n",
    "print(df.head())"
   ]
  },
  {
   "cell_type": "code",
   "execution_count": 5,
   "id": "faee21fc-5e42-486a-92a4-2ff47cb5d79c",
   "metadata": {},
   "outputs": [
    {
     "name": "stdout",
     "output_type": "stream",
     "text": [
      "          month        town flat_type block        street_name storey_range  \\\n",
      "656847  2015-01  ANG MO KIO    3 ROOM   174   ANG MO KIO AVE 4     07 TO 09   \n",
      "656848  2015-01  ANG MO KIO    3 ROOM   541  ANG MO KIO AVE 10     01 TO 03   \n",
      "656849  2015-01  ANG MO KIO    3 ROOM   163   ANG MO KIO AVE 4     01 TO 03   \n",
      "656850  2015-01  ANG MO KIO    3 ROOM   446  ANG MO KIO AVE 10     01 TO 03   \n",
      "656851  2015-01  ANG MO KIO    3 ROOM   557  ANG MO KIO AVE 10     07 TO 09   \n",
      "\n",
      "        floor_area_sqm      flat_model  lease_commence_date  resale_price  \\\n",
      "656847            60.0        Improved                 1986      255000.0   \n",
      "656848            68.0  New Generation                 1981      275000.0   \n",
      "656849            69.0  New Generation                 1980      285000.0   \n",
      "656850            68.0  New Generation                 1979      290000.0   \n",
      "656851            68.0  New Generation                 1980      290000.0   \n",
      "\n",
      "       remaining_lease  \n",
      "656847              70  \n",
      "656848              65  \n",
      "656849              64  \n",
      "656850              63  \n",
      "656851              64  \n"
     ]
    }
   ],
   "source": [
    "# Drop rows with NaN values\n",
    "df = df.dropna()\n",
    "\n",
    "# Display the first few rows to verify\n",
    "print(df.head())\n",
    "\n"
   ]
  },
  {
   "cell_type": "code",
   "execution_count": 7,
   "id": "a7eeaa68-5b41-450c-a2b6-5b5eec94871f",
   "metadata": {
    "scrolled": true
   },
   "outputs": [
    {
     "name": "stdout",
     "output_type": "stream",
     "text": [
      "          month block        street_name  floor_area_sqm  lease_commence_date  \\\n",
      "656847  2015-01   174   ANG MO KIO AVE 4            60.0                 1986   \n",
      "656848  2015-01   541  ANG MO KIO AVE 10            68.0                 1981   \n",
      "656849  2015-01   163   ANG MO KIO AVE 4            69.0                 1980   \n",
      "656850  2015-01   446  ANG MO KIO AVE 10            68.0                 1979   \n",
      "656851  2015-01   557  ANG MO KIO AVE 10            68.0                 1980   \n",
      "\n",
      "        resale_price remaining_lease  town_ANG MO KIO  town_BEDOK  \\\n",
      "656847      255000.0              70             True       False   \n",
      "656848      275000.0              65             True       False   \n",
      "656849      285000.0              64             True       False   \n",
      "656850      290000.0              63             True       False   \n",
      "656851      290000.0              64             True       False   \n",
      "\n",
      "        town_BISHAN  ...  flat_model_Multi Generation  \\\n",
      "656847        False  ...                        False   \n",
      "656848        False  ...                        False   \n",
      "656849        False  ...                        False   \n",
      "656850        False  ...                        False   \n",
      "656851        False  ...                        False   \n",
      "\n",
      "        flat_model_New Generation  flat_model_Premium Apartment  \\\n",
      "656847                      False                         False   \n",
      "656848                       True                         False   \n",
      "656849                       True                         False   \n",
      "656850                       True                         False   \n",
      "656851                       True                         False   \n",
      "\n",
      "        flat_model_Premium Apartment Loft  flat_model_Premium Maisonette  \\\n",
      "656847                              False                          False   \n",
      "656848                              False                          False   \n",
      "656849                              False                          False   \n",
      "656850                              False                          False   \n",
      "656851                              False                          False   \n",
      "\n",
      "        flat_model_Simplified  flat_model_Standard  flat_model_Terrace  \\\n",
      "656847                  False                False               False   \n",
      "656848                  False                False               False   \n",
      "656849                  False                False               False   \n",
      "656850                  False                False               False   \n",
      "656851                  False                False               False   \n",
      "\n",
      "        flat_model_Type S1  flat_model_Type S2  \n",
      "656847               False               False  \n",
      "656848               False               False  \n",
      "656849               False               False  \n",
      "656850               False               False  \n",
      "656851               False               False  \n",
      "\n",
      "[5 rows x 78 columns]\n"
     ]
    }
   ],
   "source": [
    "df = pd.get_dummies(df, columns=[\"town\", \"flat_type\", \"storey_range\", \"flat_model\"])\n",
    "print(df.head())"
   ]
  },
  {
   "cell_type": "markdown",
   "id": "d09dab5b-a670-4ca0-b0bd-1d11e2fa9811",
   "metadata": {},
   "source": [
    "# Feature Engineering"
   ]
  },
  {
   "cell_type": "code",
   "execution_count": 10,
   "id": "224514ac-29e3-4914-8060-95185448d8bf",
   "metadata": {},
   "outputs": [
    {
     "name": "stdout",
     "output_type": "stream",
     "text": [
      "        lease_commence_date  flat_age\n",
      "656847                 1986        38\n",
      "656848                 1981        43\n",
      "656849                 1980        44\n",
      "656850                 1979        45\n",
      "656851                 1980        44\n"
     ]
    }
   ],
   "source": [
    "df['flat_age'] = 2024 - df['lease_commence_date']\n",
    "print(df[['lease_commence_date', 'flat_age']].head())"
   ]
  },
  {
   "cell_type": "markdown",
   "id": "c47f3820-4c11-42d1-8163-c8dc057f9cb0",
   "metadata": {},
   "source": [
    "# Convert Dates to Numeric"
   ]
  },
  {
   "cell_type": "code",
   "execution_count": 13,
   "id": "740e50aa-2265-461c-a566-5bc398743347",
   "metadata": {},
   "outputs": [
    {
     "name": "stdout",
     "output_type": "stream",
     "text": [
      "       block        street_name  floor_area_sqm  lease_commence_date  \\\n",
      "656847   174   ANG MO KIO AVE 4            60.0                 1986   \n",
      "656848   541  ANG MO KIO AVE 10            68.0                 1981   \n",
      "656849   163   ANG MO KIO AVE 4            69.0                 1980   \n",
      "656850   446  ANG MO KIO AVE 10            68.0                 1979   \n",
      "656851   557  ANG MO KIO AVE 10            68.0                 1980   \n",
      "\n",
      "        resale_price remaining_lease  town_ANG MO KIO  town_BEDOK  \\\n",
      "656847      255000.0              70             True       False   \n",
      "656848      275000.0              65             True       False   \n",
      "656849      285000.0              64             True       False   \n",
      "656850      290000.0              63             True       False   \n",
      "656851      290000.0              64             True       False   \n",
      "\n",
      "        town_BISHAN  town_BUKIT BATOK  ...  flat_model_Premium Apartment  \\\n",
      "656847        False             False  ...                         False   \n",
      "656848        False             False  ...                         False   \n",
      "656849        False             False  ...                         False   \n",
      "656850        False             False  ...                         False   \n",
      "656851        False             False  ...                         False   \n",
      "\n",
      "        flat_model_Premium Apartment Loft  flat_model_Premium Maisonette  \\\n",
      "656847                              False                          False   \n",
      "656848                              False                          False   \n",
      "656849                              False                          False   \n",
      "656850                              False                          False   \n",
      "656851                              False                          False   \n",
      "\n",
      "        flat_model_Simplified  flat_model_Standard  flat_model_Terrace  \\\n",
      "656847                  False                False               False   \n",
      "656848                  False                False               False   \n",
      "656849                  False                False               False   \n",
      "656850                  False                False               False   \n",
      "656851                  False                False               False   \n",
      "\n",
      "        flat_model_Type S1  flat_model_Type S2  flat_age  year  \n",
      "656847               False               False        38  2015  \n",
      "656848               False               False        43  2015  \n",
      "656849               False               False        44  2015  \n",
      "656850               False               False        45  2015  \n",
      "656851               False               False        44  2015  \n",
      "\n",
      "[5 rows x 79 columns]\n"
     ]
    }
   ],
   "source": [
    "df['month'] = pd.to_datetime(df['month'], format='%Y-%m')\n",
    "df['year'] = df['month'].dt.year\n",
    "df = df.drop(columns=['month'])\n",
    "print(df.head())"
   ]
  },
  {
   "cell_type": "markdown",
   "id": "f6248345-78bd-433d-9d8e-b2a5aa4d17d6",
   "metadata": {},
   "source": [
    "# Model Training"
   ]
  },
  {
   "cell_type": "code",
   "execution_count": 16,
   "id": "ee46d423-8833-453e-8d61-74df51b8260e",
   "metadata": {},
   "outputs": [
    {
     "name": "stdout",
     "output_type": "stream",
     "text": [
      "Coefficients: [ 4.04077281e+03 -1.06300807e+14 -1.06300807e+14  1.84481980e+04]\n",
      "Intercept: 2.1515283281427133e+17\n"
     ]
    }
   ],
   "source": [
    "df = df.select_dtypes(include=[float, int])\n",
    "X = df.drop(columns=['resale_price'])\n",
    "y = df['resale_price']\n",
    "from sklearn.model_selection import train_test_split\n",
    "X_train, X_test, y_train, y_test = train_test_split(X, y, test_size=0.2, random_state=42)\n",
    "from sklearn.linear_model import LinearRegression\n",
    "model = LinearRegression()\n",
    "model.fit(X_train, y_train)\n",
    "print(\"Coefficients:\", model.coef_)\n",
    "print(\"Intercept:\", model.intercept_)"
   ]
  },
  {
   "cell_type": "code",
   "execution_count": 18,
   "id": "eae862ce-03a5-4b62-a667-76d7919216ce",
   "metadata": {},
   "outputs": [
    {
     "name": "stdout",
     "output_type": "stream",
     "text": [
      "Mean Absolute Error (MAE): 87499.05779687635\n",
      "Mean Squared Error (MSE): 14198567037.628376\n",
      "Root Mean Squared Error (RMSE): 119157.7401498886\n",
      "R² Score: 0.5225369959026274\n"
     ]
    }
   ],
   "source": [
    "from sklearn.metrics import mean_absolute_error, mean_squared_error, r2_score\n",
    "y_pred = model.predict(X_test)\n",
    "mae = mean_absolute_error(y_test, y_pred)\n",
    "mse = mean_squared_error(y_test, y_pred)\n",
    "rmse = mse ** 0.5\n",
    "r2 = r2_score(y_test, y_pred)\n",
    "print(f\"Mean Absolute Error (MAE): {mae}\")\n",
    "print(f\"Mean Squared Error (MSE): {mse}\")\n",
    "print(f\"Root Mean Squared Error (RMSE): {rmse}\")\n",
    "print(f\"R² Score: {r2}\")"
   ]
  },
  {
   "cell_type": "code",
   "execution_count": null,
   "id": "352c2484-4171-4da0-bda7-80e14b37fef3",
   "metadata": {},
   "outputs": [],
   "source": [
    "from sklearn.ensemble import RandomForestRegressor\n",
    "rf_model = RandomForestRegressor(n_estimators=100, random_state=42)\n",
    "rf_model.fit(X_train, y_train)\n",
    "y_pred_rf = rf_model.predict(X_test)\n",
    "mae_rf = mean_absolute_error(y_test, y_pred_rf)\n",
    "mse_rf = mean_squared_error(y_test, y_pred_rf)\n",
    "rmse_rf = mse_rf ** 0.5\n",
    "r2_rf = r2_score(y_test, y_pred_rf)\n",
    "print(f\"Random Forest - MAE: {mae_rf}, MSE: {mse_rf}, RMSE: {rmse_rf}, R²: {r2_rf}\")"
   ]
  },
  {
   "cell_type": "markdown",
   "id": "2a6ac0e3-9ef0-4edb-bc72-3db10178c073",
   "metadata": {},
   "source": [
    "# Limit Grid Search"
   ]
  },
  {
   "cell_type": "code",
   "execution_count": null,
   "id": "1f3fce4f-2412-476e-829d-a1e1ed17b703",
   "metadata": {},
   "outputs": [],
   "source": [
    "param_grid = {\n",
    "    'n_estimators': [50, 100],\n",
    "    'max_depth': [None, 10],\n",
    "    'min_samples_split': [2, 5],\n",
    "    'min_samples_leaf': [1, 2]\n",
    "}\n",
    "grid_search = GridSearchCV(estimator=rf_model, param_grid=param_grid, cv=3, n_jobs=-1, verbose=2)\n",
    "grid_search.fit(X_train, y_train)\n",
    "print(\"Best Parameters:\", grid_search.best_params_)\n",
    "print(\"Best Score:\", grid_search.best_score_)"
   ]
  },
  {
   "cell_type": "code",
   "execution_count": null,
   "id": "47c17ea2-3fb2-49be-824d-89f2da84c889",
   "metadata": {},
   "outputs": [],
   "source": []
  }
 ],
 "metadata": {
  "kernelspec": {
   "display_name": "Python 3 (ipykernel)",
   "language": "python",
   "name": "python3"
  },
  "language_info": {
   "codemirror_mode": {
    "name": "ipython",
    "version": 3
   },
   "file_extension": ".py",
   "mimetype": "text/x-python",
   "name": "python",
   "nbconvert_exporter": "python",
   "pygments_lexer": "ipython3",
   "version": "3.12.4"
  }
 },
 "nbformat": 4,
 "nbformat_minor": 5
}
